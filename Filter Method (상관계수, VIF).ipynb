{
 "cells": [
  {
   "cell_type": "code",
   "execution_count": 18,
   "id": "c4b0dd0c-4d65-4a1b-8867-f2537e84cb68",
   "metadata": {},
   "outputs": [],
   "source": [
    "import pandas as pd       # pandas, numpy : 데이터 생성 및 조작\n",
    "import numpy as np\n",
    "from sklearn.linear_model import LinearRegression    #sklearn : 추후 모델 학습 및 평가에 사용될 라이브리리\n",
    "from sklearn.metrics import mean_squared_error\n",
    "from sklearn.model_selection import train_test_split   #seaborn, matplotlib : 시각화를 위한 라이브리리\n",
    "import seaborn as sns\n",
    "import matplotlib.pyplot as plt"
   ]
  },
  {
   "cell_type": "code",
   "execution_count": 21,
   "id": "3aa1c6f0-1a1c-4688-8fef-0b7ab46459f5",
   "metadata": {},
   "outputs": [],
   "source": [
    "np.random.seed(42)   #랜덤 시드를 고정해서 결과 재현성을 확보, np.random.rand(100) : 0~1 사이의 무작위 숫자 100개를 생성"
   ]
  },
  {
   "cell_type": "code",
   "execution_count": 22,
   "id": "e0ee293f-70ac-4772-aedd-4ff1622f00b0",
   "metadata": {},
   "outputs": [],
   "source": [
    "df = pd.DataFrame({                       # 다양한 분포와 타입의 feature를 생성\n",
    "    'feature_1': np.random.rand(100),\n",
    "    'feature_2': np.random.rand(100) * 2,\n",
    "    'feature_3': np.random.randint(0, 2, 100),\n",
    "    'feature_4': np.random.randn(100),\n",
    "    'feature_5': np.random.rand(100) * 5,\n",
    "})\n",
    "\n",
    "#강한 상관관계를 가지는 피처 생성(feature_6는 feature_1에 거의 선형 비례 (노이즈 약간 추가))\n",
    "df['feature_6'] = df['feature_1'] * 0.95 + np.random.rand(100) * 0.01\n",
    "\n",
    "#feature들과의 관계(패턴) 를 가지도록 타깃값을 생성 (모델이 학습할 수 있는 구조를 만들어주는 중요한 과정)\n",
    "df['target'] = df['feature_1'] * 3 + df['feature_3'] * 5 + np.random.randn(100) * 0.5"
   ]
  },
  {
   "cell_type": "code",
   "execution_count": 23,
   "id": "97a80ee0-c605-4301-acd4-5322845a28ba",
   "metadata": {},
   "outputs": [],
   "source": [
    "# 데이터셋 학습을 위해 trian_test 나누기\n",
    "X= df.drop('target', axis=1)              # axis = 열을 삭제\n",
    "y = df['target']"
   ]
  },
  {
   "cell_type": "code",
   "execution_count": 24,
   "id": "a8b49367-68ee-4b5f-96da-89ab5903f642",
   "metadata": {},
   "outputs": [],
   "source": [
    "X_train, X_test, y_train, y_test = train_test_split(X,y, test_size=0.2, random_state=111)"
   ]
  },
  {
   "cell_type": "code",
   "execution_count": 25,
   "id": "3eae86f3-251a-414a-84c5-2a716f1c5bf3",
   "metadata": {},
   "outputs": [
    {
     "name": "stdout",
     "output_type": "stream",
     "text": [
      "0.28159642155895204\n"
     ]
    }
   ],
   "source": [
    "## base 상태로 회귀모델 성능 \n",
    "\n",
    "model_all=LinearRegression()                        # 1. 모델 선언\n",
    "model_all.fit(X_train, y_train)                     # 2. 학습\n",
    "y_pred_all =model_all.predict(X_test)               # 3. 예측\n",
    "mse_all =mean_squared_error(y_test, y_pred_all)      # 4. 성능 평가 (MSE)\n",
    "print(mse_all)                                      # 5. 결과 출력"
   ]
  },
  {
   "cell_type": "code",
   "execution_count": 27,
   "id": "ccb9295b-a685-40dd-ab43-97dab845195c",
   "metadata": {},
   "outputs": [],
   "source": [
    "## 상관관계\n",
    "## 변수 간 상관관계\n",
    "## 타겟과의 상관관계\n",
    "## 변수간의 상관관계를 살펴보자!\n",
    "corr_matrix =X.corr().abs()    # abs - 음수든 절댓값 기준으로 관계의 강도"
   ]
  },
  {
   "cell_type": "code",
   "execution_count": 28,
   "id": "ae1bde48-349c-45e5-8eb6-5794cbdd8f1a",
   "metadata": {},
   "outputs": [
    {
     "data": {
      "text/html": [
       "<div>\n",
       "<style scoped>\n",
       "    .dataframe tbody tr th:only-of-type {\n",
       "        vertical-align: middle;\n",
       "    }\n",
       "\n",
       "    .dataframe tbody tr th {\n",
       "        vertical-align: top;\n",
       "    }\n",
       "\n",
       "    .dataframe thead th {\n",
       "        text-align: right;\n",
       "    }\n",
       "</style>\n",
       "<table border=\"1\" class=\"dataframe\">\n",
       "  <thead>\n",
       "    <tr style=\"text-align: right;\">\n",
       "      <th></th>\n",
       "      <th>feature_1</th>\n",
       "      <th>feature_2</th>\n",
       "      <th>feature_3</th>\n",
       "      <th>feature_4</th>\n",
       "      <th>feature_5</th>\n",
       "      <th>feature_6</th>\n",
       "    </tr>\n",
       "  </thead>\n",
       "  <tbody>\n",
       "    <tr>\n",
       "      <th>feature_1</th>\n",
       "      <td>1.000000</td>\n",
       "      <td>0.034033</td>\n",
       "      <td>0.063631</td>\n",
       "      <td>0.164317</td>\n",
       "      <td>0.038737</td>\n",
       "      <td>0.999942</td>\n",
       "    </tr>\n",
       "    <tr>\n",
       "      <th>feature_2</th>\n",
       "      <td>0.034033</td>\n",
       "      <td>1.000000</td>\n",
       "      <td>0.136216</td>\n",
       "      <td>0.092174</td>\n",
       "      <td>0.016038</td>\n",
       "      <td>0.034262</td>\n",
       "    </tr>\n",
       "    <tr>\n",
       "      <th>feature_3</th>\n",
       "      <td>0.063631</td>\n",
       "      <td>0.136216</td>\n",
       "      <td>1.000000</td>\n",
       "      <td>0.097445</td>\n",
       "      <td>0.003064</td>\n",
       "      <td>0.063473</td>\n",
       "    </tr>\n",
       "    <tr>\n",
       "      <th>feature_4</th>\n",
       "      <td>0.164317</td>\n",
       "      <td>0.092174</td>\n",
       "      <td>0.097445</td>\n",
       "      <td>1.000000</td>\n",
       "      <td>0.041724</td>\n",
       "      <td>0.163392</td>\n",
       "    </tr>\n",
       "    <tr>\n",
       "      <th>feature_5</th>\n",
       "      <td>0.038737</td>\n",
       "      <td>0.016038</td>\n",
       "      <td>0.003064</td>\n",
       "      <td>0.041724</td>\n",
       "      <td>1.000000</td>\n",
       "      <td>0.039592</td>\n",
       "    </tr>\n",
       "    <tr>\n",
       "      <th>feature_6</th>\n",
       "      <td>0.999942</td>\n",
       "      <td>0.034262</td>\n",
       "      <td>0.063473</td>\n",
       "      <td>0.163392</td>\n",
       "      <td>0.039592</td>\n",
       "      <td>1.000000</td>\n",
       "    </tr>\n",
       "  </tbody>\n",
       "</table>\n",
       "</div>"
      ],
      "text/plain": [
       "           feature_1  feature_2  feature_3  feature_4  feature_5  feature_6\n",
       "feature_1   1.000000   0.034033   0.063631   0.164317   0.038737   0.999942\n",
       "feature_2   0.034033   1.000000   0.136216   0.092174   0.016038   0.034262\n",
       "feature_3   0.063631   0.136216   1.000000   0.097445   0.003064   0.063473\n",
       "feature_4   0.164317   0.092174   0.097445   1.000000   0.041724   0.163392\n",
       "feature_5   0.038737   0.016038   0.003064   0.041724   1.000000   0.039592\n",
       "feature_6   0.999942   0.034262   0.063473   0.163392   0.039592   1.000000"
      ]
     },
     "execution_count": 28,
     "metadata": {},
     "output_type": "execute_result"
    }
   ],
   "source": [
    "corr_matrix       #X의 각 feature들 간의 피어슨 상관계수(Pearson correlation coefficient)계산  값의 범위(-1 ~ 1)"
   ]
  },
  {
   "cell_type": "code",
   "execution_count": 29,
   "id": "8d4056d0-e4e3-48e9-a06c-c6148293c36d",
   "metadata": {},
   "outputs": [],
   "source": [
    "# 2. 상관계수가 0.9 초과인 피처쌍 중에서 하나를 제거 대상에 추가\n",
    "to_drop = set()\n",
    "for i in range(len(corr_matrix.columns)):\n",
    "    for j in range(i + 1, len(corr_matrix.columns)):\n",
    "        col1 = corr_matrix.columns[i]\n",
    "        col2 = corr_matrix.columns[j]\n",
    "        if corr_matrix.iloc[i, j] > 0.9:\n",
    "            to_drop.add(col2)\n",
    "\n",
    "# 3. 해당 피처 제거\n",
    "X_filtered_1 = X.drop(columns=list(to_drop))\n",
    "\n",
    "# 4. 다시 train/test 분리\n",
    "X_train_1, X_test_1, _, _ = train_test_split(X_filtered_1, y, test_size=0.2, random_state=111)"
   ]
  },
  {
   "cell_type": "code",
   "execution_count": 30,
   "id": "b59eacf1-f4b1-4f10-8204-38adee3ecf70",
   "metadata": {},
   "outputs": [
    {
     "name": "stdout",
     "output_type": "stream",
     "text": [
      "0.25743709291506517\n"
     ]
    }
   ],
   "source": [
    "model_corr = LinearRegression()                        # 1. 모델 선언\n",
    "model_corr.fit(X_train_1, y_train)                     # 2. 전처리된 피처로 학습\n",
    "y_pred_corr = model_corr.predict(X_test_1)             # 3. 예측\n",
    "mse_corr = mean_squared_error(y_test, y_pred_corr)     # 4. 성능 평가\n",
    "print(mse_corr)                                        # 5. MSE 출력"
   ]
  },
  {
   "cell_type": "code",
   "execution_count": 32,
   "id": "3c0b0e55-aa37-442e-9f54-1650eff1fd78",
   "metadata": {},
   "outputs": [],
   "source": [
    "corr_with_target=X.corrwith(y).abs()         #각 feature(X의 열)와 타깃(y) 사이의 피어슨 상관계수 계산\n",
    "                                             #즉, feature_1 ~ feature_6 각각이 target과 선형적으로 얼마나 관련 있는지 알려줌"
   ]
  },
  {
   "cell_type": "code",
   "execution_count": 38,
   "id": "15eb9bac-3335-41b6-aa4c-1a98e14f09aa",
   "metadata": {},
   "outputs": [
    {
     "data": {
      "text/plain": [
       "feature_1    0.368519\n",
       "feature_2    0.144010\n",
       "feature_3    0.932366\n",
       "feature_4    0.129946\n",
       "feature_5    0.037407\n",
       "feature_6    0.367881\n",
       "dtype: float64"
      ]
     },
     "execution_count": 38,
     "metadata": {},
     "output_type": "execute_result"
    }
   ],
   "source": [
    "corr_with_target"
   ]
  },
  {
   "cell_type": "code",
   "execution_count": 33,
   "id": "3510cfb9-f4b9-4eab-86b3-9aceed17ea46",
   "metadata": {},
   "outputs": [],
   "source": [
    "to_drop_low_target_corr =corr_with_target[corr_with_target < 0.1].index.tolist() #  상관계수(abs 기준)가 0.1보다 작은 feature만 필터링"
   ]
  },
  {
   "cell_type": "code",
   "execution_count": 34,
   "id": "cb4e967f-29ba-4625-b1f7-5f1eea08aa93",
   "metadata": {},
   "outputs": [],
   "source": [
    "X_filtered_2 = X.drop(columns = to_drop_low_target_corr)\n",
    "X_train_2, X_test_2, _, _ = train_test_split(X_filtered_2, y, test_size=0.2, random_state=111)"
   ]
  },
  {
   "cell_type": "code",
   "execution_count": 35,
   "id": "415db9a7-574c-4b50-a359-40f03fd7679c",
   "metadata": {},
   "outputs": [
    {
     "name": "stdout",
     "output_type": "stream",
     "text": [
      "0.2477495854305865\n"
     ]
    }
   ],
   "source": [
    "model_target = LinearRegression()\n",
    "model_target.fit(X_train_2, y_train)\n",
    "y_pred_target = model_target.predict(X_test_2)\n",
    "mse_target = mean_squared_error(y_test, y_pred_target)\n",
    "print(mse_target)"
   ]
  },
  {
   "cell_type": "code",
   "execution_count": 36,
   "id": "e3022ece-7b95-4886-9a84-33805c861ff7",
   "metadata": {},
   "outputs": [
    {
     "name": "stdout",
     "output_type": "stream",
     "text": [
      "0.3685191526184477\n",
      "0.36788103333418515\n"
     ]
    }
   ],
   "source": [
    "print(X['feature_1'].corr(y))\n",
    "print(X['feature_6'].corr(y))"
   ]
  },
  {
   "cell_type": "markdown",
   "id": "d2b06ebe-af3c-493a-845a-546ebcee35d4",
   "metadata": {},
   "source": [
    "# feature 6이 아니라 feature 1을 지운 경우에 성능평가 비교"
   ]
  },
  {
   "cell_type": "code",
   "execution_count": 41,
   "id": "a5cfd842-6e7c-4a82-b2c7-76b589948908",
   "metadata": {},
   "outputs": [],
   "source": [
    "# feature_1만 제거 (feature_6은 유지)\n",
    "X_removed_f1 = X.drop(columns=['feature_1'])\n",
    "\n",
    "# 다시 학습/테스트 셋 분리\n",
    "X_train_f1, X_test_f1, _, _ = train_test_split(X_removed_f1, y, test_size=0.2, random_state=111)"
   ]
  },
  {
   "cell_type": "code",
   "execution_count": 40,
   "id": "9453946d-37e8-4ee1-a3e4-8209d71bf8d5",
   "metadata": {},
   "outputs": [
    {
     "name": "stdout",
     "output_type": "stream",
     "text": [
      "MSE (feature_1 제거): 0.2577425402292611\n"
     ]
    }
   ],
   "source": [
    "model_f1 = LinearRegression()\n",
    "model_f1.fit(X_train_f1, y_train)\n",
    "\n",
    "y_pred_f1 = model_f1.predict(X_test_f1)\n",
    "mse_f1 = mean_squared_error(y_test, y_pred_f1)\n",
    "\n",
    "print(\"MSE (feature_1 제거):\", mse_f1)"
   ]
  },
  {
   "cell_type": "markdown",
   "id": "8d4b4af3-166d-4023-b9fe-2152a639d4a0",
   "metadata": {},
   "source": [
    "mse_corr < mse_f1           feature_1 이 실제로 더 중요한 정보"
   ]
  },
  {
   "cell_type": "markdown",
   "id": "61341d89-ac67-4ae6-9e18-4b34b1cf05bd",
   "metadata": {},
   "source": [
    "# feature 6과, feature 1을 지웠을 때 둘 비교하기"
   ]
  },
  {
   "cell_type": "code",
   "execution_count": 43,
   "id": "b32bd434-2d34-4230-8e1f-499bbb626345",
   "metadata": {},
   "outputs": [
    {
     "name": "stdout",
     "output_type": "stream",
     "text": [
      "MSE (feature_6 제거): 0.25743709291506517\n"
     ]
    }
   ],
   "source": [
    "# feature_6 제거\n",
    "X_drop_f6 = X.drop(columns=['feature_6'])\n",
    "\n",
    "# train/test split\n",
    "X_train_f6, X_test_f6, _, _ = train_test_split(X_drop_f6, y, test_size=0.2, random_state=111)\n",
    "\n",
    "model_f6 = LinearRegression()\n",
    "model_f6.fit(X_train_f6, y_train)\n",
    "y_pred_f6 = model_f6.predict(X_test_f6)\n",
    "\n",
    "# 성능 평가 (MSE)\n",
    "mse_f6 = mean_squared_error(y_test, y_pred_f6)\n",
    "print(\"MSE (feature_6 제거):\", mse_f6)"
   ]
  },
  {
   "cell_type": "code",
   "execution_count": 44,
   "id": "112f122a-4b97-43d2-b712-f6412ce39e54",
   "metadata": {},
   "outputs": [
    {
     "name": "stdout",
     "output_type": "stream",
     "text": [
      "MSE (feature_1 제거): 0.2577425402292611\n"
     ]
    }
   ],
   "source": [
    "# feature_1 제거\n",
    "X_drop_f1 = X.drop(columns=['feature_1'])\n",
    "\n",
    "# train/test split\n",
    "X_train_f1, X_test_f1, _, _ = train_test_split(X_drop_f1, y, test_size=0.2, random_state=111)\n",
    "\n",
    "# 회귀 모델 학습 & 예측\n",
    "model_f1 = LinearRegression()\n",
    "model_f1.fit(X_train_f1, y_train)\n",
    "y_pred_f1 = model_f1.predict(X_test_f1)\n",
    "\n",
    "mse_f1 = mean_squared_error(y_test, y_pred_f1)\n",
    "print(\"MSE (feature_1 제거):\", mse_f1)\n"
   ]
  },
  {
   "cell_type": "code",
   "execution_count": 45,
   "id": "f731d1f8-52ca-4a10-8299-d429c1a68071",
   "metadata": {},
   "outputs": [
    {
     "name": "stdout",
     "output_type": "stream",
     "text": [
      "MSE (feature_6 제거): 0.2574\n",
      "MSE (feature_1 제거): 0.2577\n"
     ]
    }
   ],
   "source": [
    "print(f\"MSE (feature_6 제거): {mse_f6:.4f}\")\n",
    "print(f\"MSE (feature_1 제거): {mse_f1:.4f}\")"
   ]
  },
  {
   "cell_type": "code",
   "execution_count": 46,
   "id": "1547b7ff-9150-45f2-81a7-f4a18f79bc05",
   "metadata": {},
   "outputs": [
    {
     "data": {
      "image/png": "[encoded data removed]",
      "text/plain": [
       "<Figure size 600x500 with 1 Axes>"
      ]
     },
     "metadata": {},
     "output_type": "display_data"
    }
   ],
   "source": [
    "# 산점도 그리기\n",
    "plt.figure(figsize=(6, 5))\n",
    "sns.scatterplot(data=df, x='feature_1', y='feature_6')\n",
    "\n",
    "# 상관계수 출력\n",
    "corr_val = df[['feature_1', 'feature_6']].corr().iloc[0, 1]\n",
    "plt.title(f'Feature 1 vs Feature 6 (corr = {corr_val:.4f})')\n",
    "plt.xlabel('feature_1')\n",
    "plt.ylabel('feature_6')\n",
    "plt.grid(True)\n",
    "plt.tight_layout()\n",
    "plt.show()"
   ]
  },
  {
   "cell_type": "code",
   "execution_count": 48,
   "id": "0848f31b-1b3a-4f1c-b5e4-702b98621d22",
   "metadata": {},
   "outputs": [
    {
     "data": {
      "image/png": "[encoded data removed]",
      "text/plain": [
       "<Figure size 800x600 with 2 Axes>"
      ]
     },
     "metadata": {},
     "output_type": "display_data"
    }
   ],
   "source": [
    "# feature_1 ~ feature_6 상관관계 계산\n",
    "feature_cols = [f'feature_{i}' for i in range(1, 7)]\n",
    "corr_matrix = df[feature_cols].corr()\n",
    "\n",
    "# 히트맵 시각화\n",
    "plt.figure(figsize=(8, 6))\n",
    "sns.heatmap(corr_matrix, annot=True, cmap='coolwarm', vmin=-1, vmax=1, square=True, linewidths=0.5)\n",
    "plt.title(\"Correlation Matrix\")\n",
    "plt.tight_layout()\n",
    "plt.show()"
   ]
  },
  {
   "cell_type": "markdown",
   "id": "9084d0b8-446f-4ecc-9a30-6f635b36bbb1",
   "metadata": {},
   "source": [
    "# VIF( Variance Inflaction Factor)"
   ]
  },
  {
   "cell_type": "code",
   "execution_count": 49,
   "id": "bb497a7a-2019-4f0b-8039-879e8611f183",
   "metadata": {},
   "outputs": [],
   "source": [
    "from statsmodels.stats.outliers_influence import variance_inflation_factor"
   ]
  },
  {
   "cell_type": "code",
   "execution_count": 55,
   "id": "822cc425-caa2-43f9-bfc7-9f4acd4ade41",
   "metadata": {},
   "outputs": [
    {
     "name": "stdout",
     "output_type": "stream",
     "text": [
      "Drop'feature_6', VIF=23418.45)\n"
     ]
    }
   ],
   "source": [
    "## VIF 계수 함수\n",
    "def calculate_vif(X):\n",
    "    vif_df = pd.DataFrame()\n",
    "    vif_df['feature'] = X.columns\n",
    "    vif_df['VIF']= [variance_inflation_factor(X.values,i) for i in range(X.shape[1])]\n",
    "    return vif_df\n",
    "# 반복\n",
    "\n",
    "def drop_high_vif_features(X, thresh = 10.0):\n",
    "    X_curr =X.copy()\n",
    "    while True:\n",
    "        vif_df=calculate_vif(X_curr)\n",
    "        max_vif=vif_df['VIF'].max()\n",
    "        if max_vif < thresh:\n",
    "            break\n",
    "        drop_feature =vif_df.sort_values('VIF',ascending=False).iloc[0]['feature']\n",
    "        print(f\"Drop'{drop_feature}', VIF={max_vif:.2f})\")\n",
    "        X_curr = X_curr.drop(columns=[drop_feature])\n",
    "    return X_curr\n",
    "\n",
    "\n",
    "X_vif=drop_high_vif_features(X, thresh=10.0)"
   ]
  },
  {
   "cell_type": "code",
   "execution_count": null,
   "id": "e771818a-62ae-421f-8058-a15c98263b0d",
   "metadata": {},
   "outputs": [],
   "source": [
    "vif_final = calculate_vif(X_vif)   # 남은 feature들의 VIF계산\n",
    "print(vif_final)                   "
   ]
  },
  {
   "cell_type": "code",
   "execution_count": 58,
   "id": "c7c0135a-3e26-4fd9-90b9-e850c8c540f5",
   "metadata": {},
   "outputs": [
    {
     "name": "stdout",
     "output_type": "stream",
     "text": [
      "MSE (VIF 기반 제거 후): 0.25743709291506517\n"
     ]
    }
   ],
   "source": [
    "X_train_vif, X_test_vif, _, _ = train_test_split(X_vif, y, test_size=0.2, random_state=111)\n",
    "\n",
    "model_vif = LinearRegression()\n",
    "model_vif.fit(X_train_vif, y_train)\n",
    "y_pred_vif = model_vif.predict(X_test_vif)\n",
    "mse_vif = mean_squared_error(y_test, y_pred_vif)\n",
    "\n",
    "print(\"MSE (VIF 기반 제거 후):\", mse_vif)"
   ]
  },
  {
   "cell_type": "markdown",
   "id": "2cb2e1bd-b1eb-4ec8-a7e0-ef66b9e3f728",
   "metadata": {},
   "source": [
    "# 캘리포니아 집값 데이터셋\n",
    "- 회귀분석을 진행하기 위해서 피처에 대한 selection"
   ]
  },
  {
   "cell_type": "code",
   "execution_count": 45,
   "id": "e12211ad-097b-4e74-a4c3-f47a9f866725",
   "metadata": {},
   "outputs": [
    {
     "name": "stdout",
     "output_type": "stream",
     "text": [
      "   MedInc  HouseAge  AveRooms  AveBedrms  Population  AveOccup  Latitude  \\\n",
      "0  8.3252      41.0  6.984127   1.023810       322.0  2.555556     37.88   \n",
      "1  8.3014      21.0  6.238137   0.971880      2401.0  2.109842     37.86   \n",
      "2  7.2574      52.0  8.288136   1.073446       496.0  2.802260     37.85   \n",
      "3  5.6431      52.0  5.817352   1.073059       558.0  2.547945     37.85   \n",
      "4  3.8462      52.0  6.281853   1.081081       565.0  2.181467     37.85   \n",
      "\n",
      "   Longitude  \n",
      "0    -122.23  \n",
      "1    -122.22  \n",
      "2    -122.24  \n",
      "3    -122.25  \n",
      "4    -122.25  \n",
      "0    4.526\n",
      "1    3.585\n",
      "2    3.521\n",
      "3    3.413\n",
      "4    3.422\n",
      "Name: MedHouseValue, dtype: float64\n"
     ]
    }
   ],
   "source": [
    "from sklearn.datasets import fetch_california_housing\n",
    "import pandas as pd\n",
    "\n",
    "# 데이터 불러오기\n",
    "california = fetch_california_housing()\n",
    "\n",
    "# 특성과 타겟 확인\n",
    "X = pd.DataFrame(california.data, columns=california.feature_names)  #입력값을 DataFrame 형태로 변환\n",
    "y = pd.Series(california.target, name='MedHouseValue')               #타깃값 (각 지역의 중위수 주택 가격)을 Series로 변환\n",
    "\n",
    "# 데이터 확인\n",
    "print(X.head())\n",
    "print(y.head())"
   ]
  },
  {
   "cell_type": "code",
   "execution_count": 47,
   "id": "5e694b48-ae93-4a03-acf3-31d3f8ef4ba9",
   "metadata": {},
   "outputs": [
    {
     "name": "stdout",
     "output_type": "stream",
     "text": [
      "행 개수: 20640, 열 개수: 8\n"
     ]
    }
   ],
   "source": [
    "df = pd.DataFrame(california.data, columns=california.feature_names)\n",
    "# 데이터 개수 확인\n",
    "print(f\"행 개수: {df.shape[0]}, 열 개수: {df.shape[1]}\")"
   ]
  },
  {
   "cell_type": "code",
   "execution_count": 5,
   "id": "00b2e954-67e0-4840-a127-a59b0883ec0e",
   "metadata": {},
   "outputs": [],
   "source": [
    "corr_with_target = X.corrwith(y).abs()\n",
    "to_drop_low_corr = corr_with_target[corr_with_target < 0.1].index.tolist()\n",
    "X_filtered_corr = X.drop(columns=to_drop_low_corr)"
   ]
  },
  {
   "cell_type": "code",
   "execution_count": 6,
   "id": "80cbe173-dd10-4ad5-aa15-ad373b5e508d",
   "metadata": {},
   "outputs": [
    {
     "data": {
      "text/html": [
       "<div>\n",
       "<style scoped>\n",
       "    .dataframe tbody tr th:only-of-type {\n",
       "        vertical-align: middle;\n",
       "    }\n",
       "\n",
       "    .dataframe tbody tr th {\n",
       "        vertical-align: top;\n",
       "    }\n",
       "\n",
       "    .dataframe thead th {\n",
       "        text-align: right;\n",
       "    }\n",
       "</style>\n",
       "<table border=\"1\" class=\"dataframe\">\n",
       "  <thead>\n",
       "    <tr style=\"text-align: right;\">\n",
       "      <th></th>\n",
       "      <th>MedInc</th>\n",
       "      <th>HouseAge</th>\n",
       "      <th>AveRooms</th>\n",
       "      <th>Latitude</th>\n",
       "    </tr>\n",
       "  </thead>\n",
       "  <tbody>\n",
       "    <tr>\n",
       "      <th>0</th>\n",
       "      <td>8.3252</td>\n",
       "      <td>41.0</td>\n",
       "      <td>6.984127</td>\n",
       "      <td>37.88</td>\n",
       "    </tr>\n",
       "    <tr>\n",
       "      <th>1</th>\n",
       "      <td>8.3014</td>\n",
       "      <td>21.0</td>\n",
       "      <td>6.238137</td>\n",
       "      <td>37.86</td>\n",
       "    </tr>\n",
       "    <tr>\n",
       "      <th>2</th>\n",
       "      <td>7.2574</td>\n",
       "      <td>52.0</td>\n",
       "      <td>8.288136</td>\n",
       "      <td>37.85</td>\n",
       "    </tr>\n",
       "    <tr>\n",
       "      <th>3</th>\n",
       "      <td>5.6431</td>\n",
       "      <td>52.0</td>\n",
       "      <td>5.817352</td>\n",
       "      <td>37.85</td>\n",
       "    </tr>\n",
       "    <tr>\n",
       "      <th>4</th>\n",
       "      <td>3.8462</td>\n",
       "      <td>52.0</td>\n",
       "      <td>6.281853</td>\n",
       "      <td>37.85</td>\n",
       "    </tr>\n",
       "    <tr>\n",
       "      <th>...</th>\n",
       "      <td>...</td>\n",
       "      <td>...</td>\n",
       "      <td>...</td>\n",
       "      <td>...</td>\n",
       "    </tr>\n",
       "    <tr>\n",
       "      <th>20635</th>\n",
       "      <td>1.5603</td>\n",
       "      <td>25.0</td>\n",
       "      <td>5.045455</td>\n",
       "      <td>39.48</td>\n",
       "    </tr>\n",
       "    <tr>\n",
       "      <th>20636</th>\n",
       "      <td>2.5568</td>\n",
       "      <td>18.0</td>\n",
       "      <td>6.114035</td>\n",
       "      <td>39.49</td>\n",
       "    </tr>\n",
       "    <tr>\n",
       "      <th>20637</th>\n",
       "      <td>1.7000</td>\n",
       "      <td>17.0</td>\n",
       "      <td>5.205543</td>\n",
       "      <td>39.43</td>\n",
       "    </tr>\n",
       "    <tr>\n",
       "      <th>20638</th>\n",
       "      <td>1.8672</td>\n",
       "      <td>18.0</td>\n",
       "      <td>5.329513</td>\n",
       "      <td>39.43</td>\n",
       "    </tr>\n",
       "    <tr>\n",
       "      <th>20639</th>\n",
       "      <td>2.3886</td>\n",
       "      <td>16.0</td>\n",
       "      <td>5.254717</td>\n",
       "      <td>39.37</td>\n",
       "    </tr>\n",
       "  </tbody>\n",
       "</table>\n",
       "<p>20640 rows × 4 columns</p>\n",
       "</div>"
      ],
      "text/plain": [
       "       MedInc  HouseAge  AveRooms  Latitude\n",
       "0      8.3252      41.0  6.984127     37.88\n",
       "1      8.3014      21.0  6.238137     37.86\n",
       "2      7.2574      52.0  8.288136     37.85\n",
       "3      5.6431      52.0  5.817352     37.85\n",
       "4      3.8462      52.0  6.281853     37.85\n",
       "...       ...       ...       ...       ...\n",
       "20635  1.5603      25.0  5.045455     39.48\n",
       "20636  2.5568      18.0  6.114035     39.49\n",
       "20637  1.7000      17.0  5.205543     39.43\n",
       "20638  1.8672      18.0  5.329513     39.43\n",
       "20639  2.3886      16.0  5.254717     39.37\n",
       "\n",
       "[20640 rows x 4 columns]"
      ]
     },
     "execution_count": 6,
     "metadata": {},
     "output_type": "execute_result"
    }
   ],
   "source": [
    "X_filtered_corr"
   ]
  },
  {
   "cell_type": "code",
   "execution_count": 7,
   "id": "e85f2991-031a-46a9-b177-bf06ce6b9bab",
   "metadata": {},
   "outputs": [],
   "source": [
    "# 상관계수 절댓값 계산\n",
    "corr_with_target = X.corrwith(y).abs()\n",
    "\n",
    "# 상관계수 기준 설정 (예: 0.1)\n",
    "corr_threshold = 0.1\n",
    "selected_by_corr = corr_with_target[corr_with_target > corr_threshold].index.tolist()\n",
    "\n",
    "# 상관관계 기반 필터링\n",
    "X_corr_filtered = X[selected_by_corr]"
   ]
  },
  {
   "cell_type": "code",
   "execution_count": 8,
   "id": "3982da42-cf78-453e-addb-4addb121bec0",
   "metadata": {},
   "outputs": [
    {
     "data": {
      "text/html": [
       "<div>\n",
       "<style scoped>\n",
       "    .dataframe tbody tr th:only-of-type {\n",
       "        vertical-align: middle;\n",
       "    }\n",
       "\n",
       "    .dataframe tbody tr th {\n",
       "        vertical-align: top;\n",
       "    }\n",
       "\n",
       "    .dataframe thead th {\n",
       "        text-align: right;\n",
       "    }\n",
       "</style>\n",
       "<table border=\"1\" class=\"dataframe\">\n",
       "  <thead>\n",
       "    <tr style=\"text-align: right;\">\n",
       "      <th></th>\n",
       "      <th>MedInc</th>\n",
       "      <th>HouseAge</th>\n",
       "      <th>AveRooms</th>\n",
       "      <th>Latitude</th>\n",
       "    </tr>\n",
       "  </thead>\n",
       "  <tbody>\n",
       "    <tr>\n",
       "      <th>0</th>\n",
       "      <td>8.3252</td>\n",
       "      <td>41.0</td>\n",
       "      <td>6.984127</td>\n",
       "      <td>37.88</td>\n",
       "    </tr>\n",
       "    <tr>\n",
       "      <th>1</th>\n",
       "      <td>8.3014</td>\n",
       "      <td>21.0</td>\n",
       "      <td>6.238137</td>\n",
       "      <td>37.86</td>\n",
       "    </tr>\n",
       "    <tr>\n",
       "      <th>2</th>\n",
       "      <td>7.2574</td>\n",
       "      <td>52.0</td>\n",
       "      <td>8.288136</td>\n",
       "      <td>37.85</td>\n",
       "    </tr>\n",
       "    <tr>\n",
       "      <th>3</th>\n",
       "      <td>5.6431</td>\n",
       "      <td>52.0</td>\n",
       "      <td>5.817352</td>\n",
       "      <td>37.85</td>\n",
       "    </tr>\n",
       "    <tr>\n",
       "      <th>4</th>\n",
       "      <td>3.8462</td>\n",
       "      <td>52.0</td>\n",
       "      <td>6.281853</td>\n",
       "      <td>37.85</td>\n",
       "    </tr>\n",
       "    <tr>\n",
       "      <th>...</th>\n",
       "      <td>...</td>\n",
       "      <td>...</td>\n",
       "      <td>...</td>\n",
       "      <td>...</td>\n",
       "    </tr>\n",
       "    <tr>\n",
       "      <th>20635</th>\n",
       "      <td>1.5603</td>\n",
       "      <td>25.0</td>\n",
       "      <td>5.045455</td>\n",
       "      <td>39.48</td>\n",
       "    </tr>\n",
       "    <tr>\n",
       "      <th>20636</th>\n",
       "      <td>2.5568</td>\n",
       "      <td>18.0</td>\n",
       "      <td>6.114035</td>\n",
       "      <td>39.49</td>\n",
       "    </tr>\n",
       "    <tr>\n",
       "      <th>20637</th>\n",
       "      <td>1.7000</td>\n",
       "      <td>17.0</td>\n",
       "      <td>5.205543</td>\n",
       "      <td>39.43</td>\n",
       "    </tr>\n",
       "    <tr>\n",
       "      <th>20638</th>\n",
       "      <td>1.8672</td>\n",
       "      <td>18.0</td>\n",
       "      <td>5.329513</td>\n",
       "      <td>39.43</td>\n",
       "    </tr>\n",
       "    <tr>\n",
       "      <th>20639</th>\n",
       "      <td>2.3886</td>\n",
       "      <td>16.0</td>\n",
       "      <td>5.254717</td>\n",
       "      <td>39.37</td>\n",
       "    </tr>\n",
       "  </tbody>\n",
       "</table>\n",
       "<p>20640 rows × 4 columns</p>\n",
       "</div>"
      ],
      "text/plain": [
       "       MedInc  HouseAge  AveRooms  Latitude\n",
       "0      8.3252      41.0  6.984127     37.88\n",
       "1      8.3014      21.0  6.238137     37.86\n",
       "2      7.2574      52.0  8.288136     37.85\n",
       "3      5.6431      52.0  5.817352     37.85\n",
       "4      3.8462      52.0  6.281853     37.85\n",
       "...       ...       ...       ...       ...\n",
       "20635  1.5603      25.0  5.045455     39.48\n",
       "20636  2.5568      18.0  6.114035     39.49\n",
       "20637  1.7000      17.0  5.205543     39.43\n",
       "20638  1.8672      18.0  5.329513     39.43\n",
       "20639  2.3886      16.0  5.254717     39.37\n",
       "\n",
       "[20640 rows x 4 columns]"
      ]
     },
     "execution_count": 8,
     "metadata": {},
     "output_type": "execute_result"
    }
   ],
   "source": [
    "X_corr_filtered"
   ]
  },
  {
   "cell_type": "code",
   "execution_count": 10,
   "id": "9affdf8e-3b05-469a-a80d-4a492daed690",
   "metadata": {},
   "outputs": [],
   "source": [
    "corr_with_target_filtered = X_corr_filtered.corrwith(y)"
   ]
  },
  {
   "cell_type": "code",
   "execution_count": 11,
   "id": "0b0494bb-dc78-4355-b88f-713b35627748",
   "metadata": {},
   "outputs": [
    {
     "data": {
      "text/plain": [
       "MedInc      0.688075\n",
       "HouseAge    0.105623\n",
       "AveRooms    0.151948\n",
       "Latitude   -0.144160\n",
       "dtype: float64"
      ]
     },
     "execution_count": 11,
     "metadata": {},
     "output_type": "execute_result"
    }
   ],
   "source": [
    "corr_with_target_filtered"
   ]
  },
  {
   "cell_type": "code",
   "execution_count": 12,
   "id": "fa796fc0-6836-44c4-b75c-a81dca1b6c4e",
   "metadata": {},
   "outputs": [],
   "source": [
    "from statsmodels.stats.outliers_influence import variance_inflation_factor\n",
    "\n",
    "def calculate_vif(X):\n",
    "    return pd.DataFrame({\n",
    "        'feature': X.columns,\n",
    "        'VIF': [variance_inflation_factor(X.values, i) for i in range(X.shape[1])]\n",
    "    })\n",
    "\n",
    "def drop_high_vif_features(X, thresh=10.0):\n",
    "    X_curr = X.copy()\n",
    "    while True:\n",
    "        vif_df = calculate_vif(X_curr)\n",
    "        max_vif = vif_df['VIF'].max()\n",
    "        if max_vif < thresh:\n",
    "            break\n",
    "        drop_feature = vif_df.sort_values('VIF', ascending=False).iloc[0]['feature']\n",
    "        print(f\" Drop '{drop_feature}' (VIF={max_vif:.2f})\")\n",
    "        X_curr = X_curr.drop(columns=[drop_feature])\n",
    "    return X_curr"
   ]
  },
  {
   "cell_type": "code",
   "execution_count": 13,
   "id": "4a222997-afc5-40e6-a95e-528e76207ff6",
   "metadata": {},
   "outputs": [
    {
     "name": "stdout",
     "output_type": "stream",
     "text": [
      " Drop 'Latitude' (VIF=14.81)\n"
     ]
    }
   ],
   "source": [
    "X_final = drop_high_vif_features(X_corr_filtered, thresh=10.0)"
   ]
  },
  {
   "cell_type": "code",
   "execution_count": 14,
   "id": "59a6c44a-be12-4a75-84f8-ccd7db4d36bb",
   "metadata": {},
   "outputs": [
    {
     "name": "stdout",
     "output_type": "stream",
     "text": [
      "최종 피처 목록: ['MedInc', 'HouseAge', 'AveRooms']\n"
     ]
    }
   ],
   "source": [
    "print(\"최종 피처 목록:\", X_final.columns.tolist())"
   ]
  },
  {
   "cell_type": "code",
   "execution_count": 15,
   "id": "3e4337f1-061a-4edb-9d6f-df55ce622306",
   "metadata": {},
   "outputs": [
    {
     "name": "stdout",
     "output_type": "stream",
     "text": [
      "MSE: 0.6589\n"
     ]
    }
   ],
   "source": [
    "from sklearn.model_selection import train_test_split\n",
    "from sklearn.linear_model import LinearRegression\n",
    "from sklearn.metrics import mean_squared_error\n",
    "\n",
    "# 학습/테스트 분할\n",
    "X_train, X_test, y_train, y_test = train_test_split(X_final, y, test_size=0.2, random_state=42)\n",
    "\n",
    "# 회귀 모델 학습\n",
    "model = LinearRegression()\n",
    "model.fit(X_train, y_train)\n",
    "\n",
    "# 예측 및 평가\n",
    "y_pred = model.predict(X_test)\n",
    "print(f\"MSE: {mean_squared_error(y_test, y_pred):.4f}\")"
   ]
  },
  {
   "cell_type": "code",
   "execution_count": 19,
   "id": "7933d8d4-4737-43ce-84ea-748109e0f6fd",
   "metadata": {},
   "outputs": [],
   "source": [
    "X['MedInc_log'] = np.log1p(X['MedInc'])\n",
    "X['AveRooms_log'] = np.log1p(X['AveRooms'])\n",
    "X['HouseAge_log'] = np.log1p(X['HouseAge'])          #log1p는 log(1 + x)로, 0 값 처리"
   ]
  },
  {
   "cell_type": "code",
   "execution_count": 20,
   "id": "e7d8a393-d026-4b04-99d3-ddb07de6295a",
   "metadata": {},
   "outputs": [],
   "source": [
    "import numpy as np\n",
    "\n",
    "# 복사본 생성\n",
    "X_log = X_final.copy()\n",
    "\n",
    "# 로그 변환 적용 (예: 왜도가 높을 수 있는 피처들)\n",
    "X_log['MedInc_log'] = np.log1p(X_log['MedInc'])\n",
    "X_log['AveRooms_log'] = np.log1p(X_log['AveRooms'])\n",
    "X_log['HouseAge_log'] = np.log1p(X_log['HouseAge'])\n",
    "\n",
    "# 원래 피처 제거 (선택사항: 중복 제거 위해)\n",
    "X_log.drop(columns=['MedInc', 'AveRooms', 'HouseAge'], inplace=True)"
   ]
  },
  {
   "cell_type": "code",
   "execution_count": 21,
   "id": "45172517-d09f-49b4-9623-6ae8656a2028",
   "metadata": {},
   "outputs": [],
   "source": [
    "X_train, X_test, y_train, y_test = train_test_split(X_log, y, test_size=0.2, random_state=111)"
   ]
  },
  {
   "cell_type": "code",
   "execution_count": 22,
   "id": "7361be73-58b1-41c1-ad6e-cbb4a137246b",
   "metadata": {},
   "outputs": [
    {
     "name": "stdout",
     "output_type": "stream",
     "text": [
      "로그 변환 후 MSE: 0.6917\n"
     ]
    }
   ],
   "source": [
    "from sklearn.linear_model import LinearRegression\n",
    "from sklearn.metrics import mean_squared_error, r2_score\n",
    "\n",
    "model = LinearRegression()\n",
    "model.fit(X_train, y_train)\n",
    "\n",
    "y_pred = model.predict(X_test)\n",
    "\n",
    "mse = mean_squared_error(y_test, y_pred)\n",
    "\n",
    "print(f\"로그 변환 후 MSE: {mse:.4f}\")"
   ]
  },
  {
   "cell_type": "code",
   "execution_count": 23,
   "id": "44fb73f0-e142-49c2-802c-4a65f19e3503",
   "metadata": {},
   "outputs": [],
   "source": [
    "log_features = ['MedInc_log', 'AveRooms_log', 'HouseAge_log']\n",
    "corr_with_target_log = X_log[log_features].corrwith(y)"
   ]
  },
  {
   "cell_type": "code",
   "execution_count": 24,
   "id": "2986f191-70c4-4e7f-bf3c-31aa0a53d6bc",
   "metadata": {},
   "outputs": [
    {
     "data": {
      "text/plain": [
       "MedInc_log      0.669914\n",
       "AveRooms_log    0.241034\n",
       "HouseAge_log    0.079158\n",
       "dtype: float64"
      ]
     },
     "execution_count": 24,
     "metadata": {},
     "output_type": "execute_result"
    }
   ],
   "source": [
    "corr_with_target_log "
   ]
  },
  {
   "cell_type": "code",
   "execution_count": 25,
   "id": "07cf5e9f-aa49-4b35-ad86-d3471cf32cc9",
   "metadata": {},
   "outputs": [],
   "source": [
    "# 복사본 생성\n",
    "X_log2 = X_final.copy()\n",
    "\n",
    "# 로그 변환 적용 (AveRooms만)\n",
    "X_log2['AveRooms_log'] = np.log1p(X_log2['AveRooms'])\n",
    "\n",
    "# 원래 피처 제거 (중복 방지)\n",
    "X_log2.drop(columns=['AveRooms'], inplace=True)"
   ]
  },
  {
   "cell_type": "code",
   "execution_count": 26,
   "id": "851551d3-bc92-43a4-a546-f311235cdf83",
   "metadata": {},
   "outputs": [],
   "source": [
    "# 필요한 원본 피처들 복원\n",
    "X_log2['AveOccup'] = X['AveOccup']\n",
    "X_log2['AveBedrms'] = X['AveBedrms']\n",
    "X_log2['Population'] = X['Population']\n",
    "\n",
    "# 파생 변수 생성\n",
    "X_log2['Rooms_per_Household'] = X_log2['AveRooms_log'] / X_log2['AveOccup']\n",
    "X_log2['Bedrooms_Ratio'] = X_log2['AveBedrms'] / X_log2['AveRooms_log']\n",
    "X_log2['People_per_Household'] = X_log2['Population'] / X_log2['AveOccup']\n",
    "\n",
    "#파생 변수와 타깃 간 상관계수 계산\n",
    "derived_features = ['Rooms_per_Household', 'Bedrooms_Ratio', 'People_per_Household']\n",
    "corr_with_target_derived = X_log2[derived_features].corrwith(y)"
   ]
  },
  {
   "cell_type": "code",
   "execution_count": 27,
   "id": "0c464220-c025-4cb4-9709-fce9a359a0d2",
   "metadata": {},
   "outputs": [
    {
     "name": "stdout",
     "output_type": "stream",
     "text": [
      "Index(['MedInc', 'HouseAge', 'AveRooms_log', 'AveOccup', 'AveBedrms',\n",
      "       'Population', 'Rooms_per_Household', 'Bedrooms_Ratio',\n",
      "       'People_per_Household'],\n",
      "      dtype='object')\n"
     ]
    }
   ],
   "source": [
    "print(X_log2.columns)"
   ]
  },
  {
   "cell_type": "code",
   "execution_count": 28,
   "id": "95b1ec3d-5244-48bf-9107-e9ff31bb8c28",
   "metadata": {},
   "outputs": [
    {
     "data": {
      "text/plain": [
       "Rooms_per_Household     0.338541\n",
       "Bedrooms_Ratio         -0.194159\n",
       "People_per_Household    0.065843\n",
       "dtype: float64"
      ]
     },
     "execution_count": 28,
     "metadata": {},
     "output_type": "execute_result"
    }
   ],
   "source": [
    "corr_with_target_derived"
   ]
  },
  {
   "cell_type": "code",
   "execution_count": 29,
   "id": "0d1effde-6126-4082-88ed-320861ee0056",
   "metadata": {},
   "outputs": [
    {
     "name": "stdout",
     "output_type": "stream",
     "text": [
      " 파생 변수 포함 모델 MSE: 0.5316\n"
     ]
    }
   ],
   "source": [
    "X_train, X_test, y_train, y_test = train_test_split(X_log2, y, test_size=0.2, random_state=42)\n",
    "\n",
    "model = LinearRegression()\n",
    "model.fit(X_train, y_train)\n",
    "\n",
    "y_pred = model.predict(X_test)\n",
    "mse = mean_squared_error(y_test, y_pred)\n",
    "\n",
    "print(f\" 파생 변수 포함 모델 MSE: {mse:.4f}\")"
   ]
  }
 ],
 "metadata": {
  "kernelspec": {
   "display_name": "Python 3 (ipykernel)",
   "language": "python",
   "name": "python3"
  },
  "language_info": {
   "codemirror_mode": {
    "name": "ipython",
    "version": 3
   },
   "file_extension": ".py",
   "mimetype": "text/x-python",
   "name": "python",
   "nbconvert_exporter": "python",
   "pygments_lexer": "ipython3",
   "version": "3.12.7"
  }
 },
 "nbformat": 4,
 "nbformat_minor": 5
}
